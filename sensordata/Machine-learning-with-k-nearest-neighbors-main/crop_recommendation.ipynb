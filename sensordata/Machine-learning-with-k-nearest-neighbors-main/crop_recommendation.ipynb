{
  "cells": [
    {
      "cell_type": "code",
      "execution_count": 10,
      "id": "2c1a4117",
      "metadata": {
        "_cell_guid": "b1076dfc-b9ad-4769-8c92-a6c4dae69d19",
        "_uuid": "8f2839f25d086af736a60e9eeb907d3b93b6e0e5",
        "execution": {
          "iopub.execute_input": "2023-01-03T06:51:30.416959Z",
          "iopub.status.busy": "2023-01-03T06:51:30.416303Z",
          "iopub.status.idle": "2023-01-03T06:51:30.437209Z",
          "shell.execute_reply": "2023-01-03T06:51:30.436006Z"
        },
        "papermill": {
          "duration": 0.031219,
          "end_time": "2023-01-03T06:51:30.440037",
          "exception": false,
          "start_time": "2023-01-03T06:51:30.408818",
          "status": "completed"
        },
        "tags": [],
        "id": "2c1a4117"
      },
      "outputs": [],
      "source": [
        "import numpy as np # linear algebra\n",
        "import pandas as pd # data processing, CSV file I/O (e.g. pd.read_csv)\n",
        "import matplotlib.pyplot as plt\n",
        "import seaborn as sn\n",
        "\n",
        "\n",
        "\n",
        "import os\n",
        "for dirname, _, filenames in os.walk('/kaggle/input'):\n",
        "    for filename in filenames:\n",
        "        print(os.path.join(dirname, filename))\n",
        "\n",
        "# You can write up to 20GB to the current directory (/kaggle/working/) that gets preserved as output when you create a version using \"Save & Run All\" \n",
        "# You can also write temporary files to /kaggle/temp/, but they won't be saved outside of the current session"
      ]
    },
    {
      "cell_type": "code",
      "execution_count": 3,
      "id": "cbe297be",
      "metadata": {
        "execution": {
          "iopub.execute_input": "2023-01-03T06:51:30.452620Z",
          "iopub.status.busy": "2023-01-03T06:51:30.451922Z",
          "iopub.status.idle": "2023-01-03T06:51:31.541332Z",
          "shell.execute_reply": "2023-01-03T06:51:31.540276Z"
        },
        "papermill": {
          "duration": 1.098704,
          "end_time": "2023-01-03T06:51:31.543986",
          "exception": false,
          "start_time": "2023-01-03T06:51:30.445282",
          "status": "completed"
        },
        "tags": [],
        "id": "cbe297be"
      },
      "outputs": [],
      "source": [
        "import numpy as np\n",
        "import pandas as pd\n",
        "from sklearn.model_selection import train_test_split\n",
        "from sklearn import preprocessing\n",
        "from sklearn.metrics import accuracy_score"
      ]
    },
    {
      "cell_type": "code",
      "execution_count": 6,
      "id": "f6acc976",
      "metadata": {
        "execution": {
          "iopub.execute_input": "2023-01-03T06:51:31.554934Z",
          "iopub.status.busy": "2023-01-03T06:51:31.554549Z",
          "iopub.status.idle": "2023-01-03T06:51:31.592878Z",
          "shell.execute_reply": "2023-01-03T06:51:31.591656Z"
        },
        "papermill": {
          "duration": 0.046769,
          "end_time": "2023-01-03T06:51:31.595550",
          "exception": false,
          "start_time": "2023-01-03T06:51:31.548781",
          "status": "completed"
        },
        "tags": [],
        "colab": {
          "base_uri": "https://localhost:8080/",
          "height": 206
        },
        "id": "f6acc976",
        "outputId": "b42bd772-dc1d-4724-c0e7-cdf1ce57b4de"
      },
      "outputs": [
        {
          "output_type": "execute_result",
          "data": {
            "text/plain": [
              "   NITROGEN  PHOSPHORUS  POTASSIUM  TEMPERATURE  HUMIDITY   PH  RAINFALL  CROP\n",
              "0        90          42         43           21        82  6.5       203  rice\n",
              "1        85          58         41           22        80  7.0       227  rice\n",
              "2        60          55         44           23        82  7.8       264  rice\n",
              "3        74          35         40           26        80  7.0       243  rice\n",
              "4        78          42         42           20        82  7.6       263  rice"
            ],
            "text/html": [
              "\n",
              "  <div id=\"df-7df2620b-0693-492f-a8a6-9ab3ae93e9a3\">\n",
              "    <div class=\"colab-df-container\">\n",
              "      <div>\n",
              "<style scoped>\n",
              "    .dataframe tbody tr th:only-of-type {\n",
              "        vertical-align: middle;\n",
              "    }\n",
              "\n",
              "    .dataframe tbody tr th {\n",
              "        vertical-align: top;\n",
              "    }\n",
              "\n",
              "    .dataframe thead th {\n",
              "        text-align: right;\n",
              "    }\n",
              "</style>\n",
              "<table border=\"1\" class=\"dataframe\">\n",
              "  <thead>\n",
              "    <tr style=\"text-align: right;\">\n",
              "      <th></th>\n",
              "      <th>NITROGEN</th>\n",
              "      <th>PHOSPHORUS</th>\n",
              "      <th>POTASSIUM</th>\n",
              "      <th>TEMPERATURE</th>\n",
              "      <th>HUMIDITY</th>\n",
              "      <th>PH</th>\n",
              "      <th>RAINFALL</th>\n",
              "      <th>CROP</th>\n",
              "    </tr>\n",
              "  </thead>\n",
              "  <tbody>\n",
              "    <tr>\n",
              "      <th>0</th>\n",
              "      <td>90</td>\n",
              "      <td>42</td>\n",
              "      <td>43</td>\n",
              "      <td>21</td>\n",
              "      <td>82</td>\n",
              "      <td>6.5</td>\n",
              "      <td>203</td>\n",
              "      <td>rice</td>\n",
              "    </tr>\n",
              "    <tr>\n",
              "      <th>1</th>\n",
              "      <td>85</td>\n",
              "      <td>58</td>\n",
              "      <td>41</td>\n",
              "      <td>22</td>\n",
              "      <td>80</td>\n",
              "      <td>7.0</td>\n",
              "      <td>227</td>\n",
              "      <td>rice</td>\n",
              "    </tr>\n",
              "    <tr>\n",
              "      <th>2</th>\n",
              "      <td>60</td>\n",
              "      <td>55</td>\n",
              "      <td>44</td>\n",
              "      <td>23</td>\n",
              "      <td>82</td>\n",
              "      <td>7.8</td>\n",
              "      <td>264</td>\n",
              "      <td>rice</td>\n",
              "    </tr>\n",
              "    <tr>\n",
              "      <th>3</th>\n",
              "      <td>74</td>\n",
              "      <td>35</td>\n",
              "      <td>40</td>\n",
              "      <td>26</td>\n",
              "      <td>80</td>\n",
              "      <td>7.0</td>\n",
              "      <td>243</td>\n",
              "      <td>rice</td>\n",
              "    </tr>\n",
              "    <tr>\n",
              "      <th>4</th>\n",
              "      <td>78</td>\n",
              "      <td>42</td>\n",
              "      <td>42</td>\n",
              "      <td>20</td>\n",
              "      <td>82</td>\n",
              "      <td>7.6</td>\n",
              "      <td>263</td>\n",
              "      <td>rice</td>\n",
              "    </tr>\n",
              "  </tbody>\n",
              "</table>\n",
              "</div>\n",
              "      <button class=\"colab-df-convert\" onclick=\"convertToInteractive('df-7df2620b-0693-492f-a8a6-9ab3ae93e9a3')\"\n",
              "              title=\"Convert this dataframe to an interactive table.\"\n",
              "              style=\"display:none;\">\n",
              "        \n",
              "  <svg xmlns=\"http://www.w3.org/2000/svg\" height=\"24px\"viewBox=\"0 0 24 24\"\n",
              "       width=\"24px\">\n",
              "    <path d=\"M0 0h24v24H0V0z\" fill=\"none\"/>\n",
              "    <path d=\"M18.56 5.44l.94 2.06.94-2.06 2.06-.94-2.06-.94-.94-2.06-.94 2.06-2.06.94zm-11 1L8.5 8.5l.94-2.06 2.06-.94-2.06-.94L8.5 2.5l-.94 2.06-2.06.94zm10 10l.94 2.06.94-2.06 2.06-.94-2.06-.94-.94-2.06-.94 2.06-2.06.94z\"/><path d=\"M17.41 7.96l-1.37-1.37c-.4-.4-.92-.59-1.43-.59-.52 0-1.04.2-1.43.59L10.3 9.45l-7.72 7.72c-.78.78-.78 2.05 0 2.83L4 21.41c.39.39.9.59 1.41.59.51 0 1.02-.2 1.41-.59l7.78-7.78 2.81-2.81c.8-.78.8-2.07 0-2.86zM5.41 20L4 18.59l7.72-7.72 1.47 1.35L5.41 20z\"/>\n",
              "  </svg>\n",
              "      </button>\n",
              "      \n",
              "  <style>\n",
              "    .colab-df-container {\n",
              "      display:flex;\n",
              "      flex-wrap:wrap;\n",
              "      gap: 12px;\n",
              "    }\n",
              "\n",
              "    .colab-df-convert {\n",
              "      background-color: #E8F0FE;\n",
              "      border: none;\n",
              "      border-radius: 50%;\n",
              "      cursor: pointer;\n",
              "      display: none;\n",
              "      fill: #1967D2;\n",
              "      height: 32px;\n",
              "      padding: 0 0 0 0;\n",
              "      width: 32px;\n",
              "    }\n",
              "\n",
              "    .colab-df-convert:hover {\n",
              "      background-color: #E2EBFA;\n",
              "      box-shadow: 0px 1px 2px rgba(60, 64, 67, 0.3), 0px 1px 3px 1px rgba(60, 64, 67, 0.15);\n",
              "      fill: #174EA6;\n",
              "    }\n",
              "\n",
              "    [theme=dark] .colab-df-convert {\n",
              "      background-color: #3B4455;\n",
              "      fill: #D2E3FC;\n",
              "    }\n",
              "\n",
              "    [theme=dark] .colab-df-convert:hover {\n",
              "      background-color: #434B5C;\n",
              "      box-shadow: 0px 1px 3px 1px rgba(0, 0, 0, 0.15);\n",
              "      filter: drop-shadow(0px 1px 2px rgba(0, 0, 0, 0.3));\n",
              "      fill: #FFFFFF;\n",
              "    }\n",
              "  </style>\n",
              "\n",
              "      <script>\n",
              "        const buttonEl =\n",
              "          document.querySelector('#df-7df2620b-0693-492f-a8a6-9ab3ae93e9a3 button.colab-df-convert');\n",
              "        buttonEl.style.display =\n",
              "          google.colab.kernel.accessAllowed ? 'block' : 'none';\n",
              "\n",
              "        async function convertToInteractive(key) {\n",
              "          const element = document.querySelector('#df-7df2620b-0693-492f-a8a6-9ab3ae93e9a3');\n",
              "          const dataTable =\n",
              "            await google.colab.kernel.invokeFunction('convertToInteractive',\n",
              "                                                     [key], {});\n",
              "          if (!dataTable) return;\n",
              "\n",
              "          const docLinkHtml = 'Like what you see? Visit the ' +\n",
              "            '<a target=\"_blank\" href=https://colab.research.google.com/notebooks/data_table.ipynb>data table notebook</a>'\n",
              "            + ' to learn more about interactive tables.';\n",
              "          element.innerHTML = '';\n",
              "          dataTable['output_type'] = 'display_data';\n",
              "          await google.colab.output.renderOutput(dataTable, element);\n",
              "          const docLink = document.createElement('div');\n",
              "          docLink.innerHTML = docLinkHtml;\n",
              "          element.appendChild(docLink);\n",
              "        }\n",
              "      </script>\n",
              "    </div>\n",
              "  </div>\n",
              "  "
            ]
          },
          "metadata": {},
          "execution_count": 6
        }
      ],
      "source": [
        "df = pd.read_csv('crop.csv')\n",
        "df.head()"
      ]
    },
    {
      "cell_type": "code",
      "source": [
        "df.describe()"
      ],
      "metadata": {
        "colab": {
          "base_uri": "https://localhost:8080/",
          "height": 300
        },
        "id": "fuSYxMEOgMaP",
        "outputId": "2f58455e-1f0d-4bab-a8b9-520c2d2e8a7f"
      },
      "id": "fuSYxMEOgMaP",
      "execution_count": 7,
      "outputs": [
        {
          "output_type": "execute_result",
          "data": {
            "text/plain": [
              "          NITROGEN   PHOSPHORUS    POTASSIUM  TEMPERATURE     HUMIDITY  \\\n",
              "count  2200.000000  2200.000000  2200.000000  2200.000000  2200.000000   \n",
              "mean     50.551818    53.362727    48.149091    25.613182    71.482727   \n",
              "std      36.917334    32.985883    50.647931     5.080069    22.273052   \n",
              "min       0.000000     5.000000     5.000000     9.000000    14.000000   \n",
              "25%      21.000000    28.000000    20.000000    23.000000    60.000000   \n",
              "50%      37.000000    51.000000    32.000000    26.000000    80.000000   \n",
              "75%      84.250000    68.000000    49.000000    29.000000    90.000000   \n",
              "max     140.000000   145.000000   205.000000    44.000000   100.000000   \n",
              "\n",
              "                PH     RAINFALL  \n",
              "count  2200.000000  2200.000000  \n",
              "mean      6.470045   103.458182  \n",
              "std       0.774830    54.964423  \n",
              "min       3.500000    20.000000  \n",
              "25%       6.000000    65.000000  \n",
              "50%       6.400000    95.000000  \n",
              "75%       6.900000   124.000000  \n",
              "max       9.900000   299.000000  "
            ],
            "text/html": [
              "\n",
              "  <div id=\"df-15b2605b-3173-4940-8931-b2bffbb1e21f\">\n",
              "    <div class=\"colab-df-container\">\n",
              "      <div>\n",
              "<style scoped>\n",
              "    .dataframe tbody tr th:only-of-type {\n",
              "        vertical-align: middle;\n",
              "    }\n",
              "\n",
              "    .dataframe tbody tr th {\n",
              "        vertical-align: top;\n",
              "    }\n",
              "\n",
              "    .dataframe thead th {\n",
              "        text-align: right;\n",
              "    }\n",
              "</style>\n",
              "<table border=\"1\" class=\"dataframe\">\n",
              "  <thead>\n",
              "    <tr style=\"text-align: right;\">\n",
              "      <th></th>\n",
              "      <th>NITROGEN</th>\n",
              "      <th>PHOSPHORUS</th>\n",
              "      <th>POTASSIUM</th>\n",
              "      <th>TEMPERATURE</th>\n",
              "      <th>HUMIDITY</th>\n",
              "      <th>PH</th>\n",
              "      <th>RAINFALL</th>\n",
              "    </tr>\n",
              "  </thead>\n",
              "  <tbody>\n",
              "    <tr>\n",
              "      <th>count</th>\n",
              "      <td>2200.000000</td>\n",
              "      <td>2200.000000</td>\n",
              "      <td>2200.000000</td>\n",
              "      <td>2200.000000</td>\n",
              "      <td>2200.000000</td>\n",
              "      <td>2200.000000</td>\n",
              "      <td>2200.000000</td>\n",
              "    </tr>\n",
              "    <tr>\n",
              "      <th>mean</th>\n",
              "      <td>50.551818</td>\n",
              "      <td>53.362727</td>\n",
              "      <td>48.149091</td>\n",
              "      <td>25.613182</td>\n",
              "      <td>71.482727</td>\n",
              "      <td>6.470045</td>\n",
              "      <td>103.458182</td>\n",
              "    </tr>\n",
              "    <tr>\n",
              "      <th>std</th>\n",
              "      <td>36.917334</td>\n",
              "      <td>32.985883</td>\n",
              "      <td>50.647931</td>\n",
              "      <td>5.080069</td>\n",
              "      <td>22.273052</td>\n",
              "      <td>0.774830</td>\n",
              "      <td>54.964423</td>\n",
              "    </tr>\n",
              "    <tr>\n",
              "      <th>min</th>\n",
              "      <td>0.000000</td>\n",
              "      <td>5.000000</td>\n",
              "      <td>5.000000</td>\n",
              "      <td>9.000000</td>\n",
              "      <td>14.000000</td>\n",
              "      <td>3.500000</td>\n",
              "      <td>20.000000</td>\n",
              "    </tr>\n",
              "    <tr>\n",
              "      <th>25%</th>\n",
              "      <td>21.000000</td>\n",
              "      <td>28.000000</td>\n",
              "      <td>20.000000</td>\n",
              "      <td>23.000000</td>\n",
              "      <td>60.000000</td>\n",
              "      <td>6.000000</td>\n",
              "      <td>65.000000</td>\n",
              "    </tr>\n",
              "    <tr>\n",
              "      <th>50%</th>\n",
              "      <td>37.000000</td>\n",
              "      <td>51.000000</td>\n",
              "      <td>32.000000</td>\n",
              "      <td>26.000000</td>\n",
              "      <td>80.000000</td>\n",
              "      <td>6.400000</td>\n",
              "      <td>95.000000</td>\n",
              "    </tr>\n",
              "    <tr>\n",
              "      <th>75%</th>\n",
              "      <td>84.250000</td>\n",
              "      <td>68.000000</td>\n",
              "      <td>49.000000</td>\n",
              "      <td>29.000000</td>\n",
              "      <td>90.000000</td>\n",
              "      <td>6.900000</td>\n",
              "      <td>124.000000</td>\n",
              "    </tr>\n",
              "    <tr>\n",
              "      <th>max</th>\n",
              "      <td>140.000000</td>\n",
              "      <td>145.000000</td>\n",
              "      <td>205.000000</td>\n",
              "      <td>44.000000</td>\n",
              "      <td>100.000000</td>\n",
              "      <td>9.900000</td>\n",
              "      <td>299.000000</td>\n",
              "    </tr>\n",
              "  </tbody>\n",
              "</table>\n",
              "</div>\n",
              "      <button class=\"colab-df-convert\" onclick=\"convertToInteractive('df-15b2605b-3173-4940-8931-b2bffbb1e21f')\"\n",
              "              title=\"Convert this dataframe to an interactive table.\"\n",
              "              style=\"display:none;\">\n",
              "        \n",
              "  <svg xmlns=\"http://www.w3.org/2000/svg\" height=\"24px\"viewBox=\"0 0 24 24\"\n",
              "       width=\"24px\">\n",
              "    <path d=\"M0 0h24v24H0V0z\" fill=\"none\"/>\n",
              "    <path d=\"M18.56 5.44l.94 2.06.94-2.06 2.06-.94-2.06-.94-.94-2.06-.94 2.06-2.06.94zm-11 1L8.5 8.5l.94-2.06 2.06-.94-2.06-.94L8.5 2.5l-.94 2.06-2.06.94zm10 10l.94 2.06.94-2.06 2.06-.94-2.06-.94-.94-2.06-.94 2.06-2.06.94z\"/><path d=\"M17.41 7.96l-1.37-1.37c-.4-.4-.92-.59-1.43-.59-.52 0-1.04.2-1.43.59L10.3 9.45l-7.72 7.72c-.78.78-.78 2.05 0 2.83L4 21.41c.39.39.9.59 1.41.59.51 0 1.02-.2 1.41-.59l7.78-7.78 2.81-2.81c.8-.78.8-2.07 0-2.86zM5.41 20L4 18.59l7.72-7.72 1.47 1.35L5.41 20z\"/>\n",
              "  </svg>\n",
              "      </button>\n",
              "      \n",
              "  <style>\n",
              "    .colab-df-container {\n",
              "      display:flex;\n",
              "      flex-wrap:wrap;\n",
              "      gap: 12px;\n",
              "    }\n",
              "\n",
              "    .colab-df-convert {\n",
              "      background-color: #E8F0FE;\n",
              "      border: none;\n",
              "      border-radius: 50%;\n",
              "      cursor: pointer;\n",
              "      display: none;\n",
              "      fill: #1967D2;\n",
              "      height: 32px;\n",
              "      padding: 0 0 0 0;\n",
              "      width: 32px;\n",
              "    }\n",
              "\n",
              "    .colab-df-convert:hover {\n",
              "      background-color: #E2EBFA;\n",
              "      box-shadow: 0px 1px 2px rgba(60, 64, 67, 0.3), 0px 1px 3px 1px rgba(60, 64, 67, 0.15);\n",
              "      fill: #174EA6;\n",
              "    }\n",
              "\n",
              "    [theme=dark] .colab-df-convert {\n",
              "      background-color: #3B4455;\n",
              "      fill: #D2E3FC;\n",
              "    }\n",
              "\n",
              "    [theme=dark] .colab-df-convert:hover {\n",
              "      background-color: #434B5C;\n",
              "      box-shadow: 0px 1px 3px 1px rgba(0, 0, 0, 0.15);\n",
              "      filter: drop-shadow(0px 1px 2px rgba(0, 0, 0, 0.3));\n",
              "      fill: #FFFFFF;\n",
              "    }\n",
              "  </style>\n",
              "\n",
              "      <script>\n",
              "        const buttonEl =\n",
              "          document.querySelector('#df-15b2605b-3173-4940-8931-b2bffbb1e21f button.colab-df-convert');\n",
              "        buttonEl.style.display =\n",
              "          google.colab.kernel.accessAllowed ? 'block' : 'none';\n",
              "\n",
              "        async function convertToInteractive(key) {\n",
              "          const element = document.querySelector('#df-15b2605b-3173-4940-8931-b2bffbb1e21f');\n",
              "          const dataTable =\n",
              "            await google.colab.kernel.invokeFunction('convertToInteractive',\n",
              "                                                     [key], {});\n",
              "          if (!dataTable) return;\n",
              "\n",
              "          const docLinkHtml = 'Like what you see? Visit the ' +\n",
              "            '<a target=\"_blank\" href=https://colab.research.google.com/notebooks/data_table.ipynb>data table notebook</a>'\n",
              "            + ' to learn more about interactive tables.';\n",
              "          element.innerHTML = '';\n",
              "          dataTable['output_type'] = 'display_data';\n",
              "          await google.colab.output.renderOutput(dataTable, element);\n",
              "          const docLink = document.createElement('div');\n",
              "          docLink.innerHTML = docLinkHtml;\n",
              "          element.appendChild(docLink);\n",
              "        }\n",
              "      </script>\n",
              "    </div>\n",
              "  </div>\n",
              "  "
            ]
          },
          "metadata": {},
          "execution_count": 7
        }
      ]
    },
    {
      "cell_type": "code",
      "source": [
        "corr_matrix = df.corr()\n",
        "\n",
        "print(\"Correlation Matrix is : \")\n",
        "print(corr_matrix)"
      ],
      "metadata": {
        "colab": {
          "base_uri": "https://localhost:8080/"
        },
        "id": "eu-CZrIdfGKA",
        "outputId": "7c0582ce-bdd5-4272-b5ed-4214bd0cc300"
      },
      "id": "eu-CZrIdfGKA",
      "execution_count": 12,
      "outputs": [
        {
          "output_type": "stream",
          "name": "stdout",
          "text": [
            "Correlation Matrix is : \n",
            "             NITROGEN  PHOSPHORUS  POTASSIUM  TEMPERATURE  HUMIDITY        PH  \\\n",
            "NITROGEN     1.000000   -0.231460  -0.140512     0.026165  0.190674  0.096390   \n",
            "PHOSPHORUS  -0.231460    1.000000   0.736232    -0.128844 -0.118273 -0.138316   \n",
            "POTASSIUM   -0.140512    0.736232   1.000000    -0.161176  0.191277 -0.169293   \n",
            "TEMPERATURE  0.026165   -0.128844  -0.161176     1.000000  0.206334 -0.018160   \n",
            "HUMIDITY     0.190674   -0.118273   0.191277     0.206334  1.000000 -0.008384   \n",
            "PH           0.096390   -0.138316  -0.169293    -0.018160 -0.008384  1.000000   \n",
            "RAINFALL     0.058973   -0.063725  -0.053250    -0.029112  0.093759 -0.109205   \n",
            "\n",
            "             RAINFALL  \n",
            "NITROGEN     0.058973  \n",
            "PHOSPHORUS  -0.063725  \n",
            "POTASSIUM   -0.053250  \n",
            "TEMPERATURE -0.029112  \n",
            "HUMIDITY     0.093759  \n",
            "PH          -0.109205  \n",
            "RAINFALL     1.000000  \n"
          ]
        }
      ]
    },
    {
      "cell_type": "code",
      "source": [
        "sn.heatmap(corr_matrix, annot=True)\n",
        "plt.show()"
      ],
      "metadata": {
        "colab": {
          "base_uri": "https://localhost:8080/",
          "height": 332
        },
        "id": "hN8c1kqFg2ew",
        "outputId": "75d3f914-4228-465d-fa9f-65eabb1d820c"
      },
      "id": "hN8c1kqFg2ew",
      "execution_count": 13,
      "outputs": [
        {
          "output_type": "display_data",
          "data": {
            "text/plain": [
              "<Figure size 432x288 with 2 Axes>"
            ],
            "image/png": "[encoded data removed]"
          },
          "metadata": {
            "needs_background": "light"
          }
        }
      ]
    },
    {
      "cell_type": "code",
      "execution_count": null,
      "id": "dc48bcf4",
      "metadata": {
        "execution": {
          "iopub.execute_input": "2023-01-03T06:51:31.666936Z",
          "iopub.status.busy": "2023-01-03T06:51:31.666509Z",
          "iopub.status.idle": "2023-01-03T06:51:31.680187Z",
          "shell.execute_reply": "2023-01-03T06:51:31.678872Z"
        },
        "papermill": {
          "duration": 0.02228,
          "end_time": "2023-01-03T06:51:31.682435",
          "exception": false,
          "start_time": "2023-01-03T06:51:31.660155",
          "status": "completed"
        },
        "tags": [],
        "colab": {
          "base_uri": "https://localhost:8080/"
        },
        "id": "dc48bcf4",
        "outputId": "964a267d-1522-4200-be6e-a61df4ec7fcb"
      },
      "outputs": [
        {
          "output_type": "execute_result",
          "data": {
            "text/plain": [
              "<bound method DataFrame.diff of       NITROGEN  PHOSPHORUS  POTASSIUM  TEMPERATURE  HUMIDITY   PH  RAINFALL  \\\n",
              "0           90          42         43           21        82  6.5       203   \n",
              "1           85          58         41           22        80  7.0       227   \n",
              "2           60          55         44           23        82  7.8       264   \n",
              "3           74          35         40           26        80  7.0       243   \n",
              "4           78          42         42           20        82  7.6       263   \n",
              "...        ...         ...        ...          ...       ...  ...       ...   \n",
              "2195       107          34         32           27        66  6.8       178   \n",
              "2196        99          15         27           27        57  6.1       128   \n",
              "2197       118          33         30           24        67  6.4       173   \n",
              "2198       117          32         34           26        52  6.8       127   \n",
              "2199       104          18         30           24        60  6.8       141   \n",
              "\n",
              "        CROP  \n",
              "0       rice  \n",
              "1       rice  \n",
              "2       rice  \n",
              "3       rice  \n",
              "4       rice  \n",
              "...      ...  \n",
              "2195  coffee  \n",
              "2196  coffee  \n",
              "2197  coffee  \n",
              "2198  coffee  \n",
              "2199  coffee  \n",
              "\n",
              "[2200 rows x 8 columns]>"
            ]
          },
          "metadata": {},
          "execution_count": 31
        }
      ],
      "source": [
        "df.diff"
      ]
    },
    {
      "cell_type": "code",
      "execution_count": null,
      "id": "4b189ecc",
      "metadata": {
        "execution": {
          "iopub.execute_input": "2023-01-03T06:51:31.694753Z",
          "iopub.status.busy": "2023-01-03T06:51:31.694324Z",
          "iopub.status.idle": "2023-01-03T06:51:31.709018Z",
          "shell.execute_reply": "2023-01-03T06:51:31.707288Z"
        },
        "papermill": {
          "duration": 0.023517,
          "end_time": "2023-01-03T06:51:31.711329",
          "exception": false,
          "start_time": "2023-01-03T06:51:31.687812",
          "status": "completed"
        },
        "tags": [],
        "colab": {
          "base_uri": "https://localhost:8080/"
        },
        "id": "4b189ecc",
        "outputId": "08c48fdc-4d55-443d-8b53-0d9e64cb64f1"
      },
      "outputs": [
        {
          "output_type": "stream",
          "name": "stdout",
          "text": [
            "NITROGEN \n",
            " [ 90  85  60  74  78  69  94  89  68  91  93  77  88  76  67  83  98  66\n",
            "  97  84  73  92  95  99  63  62  64  82  79  65  75  71  72  70  86  61\n",
            "  81  80 100  87  96  40  23  39  22  36  32  58  59  42  28  43  27  50\n",
            "  25  31  26  54  57  49  46  38  35  52  44  24  29  20  56  37  51  41\n",
            "  34  30  33  47  53  45  48  13   2  17  12   6  10  19  11  18  21  16\n",
            "   9   1   7   8   0   3   4   5  14  15  55 105 108 118 101 106 109 117\n",
            " 114 110 112 111 102 116 119 107 104 103 120 113 115 133 136 126 121 129\n",
            " 122 140 131 135 123 125 139 132 127 130 134] \n",
            "\n",
            "PHOSPHORUS \n",
            " [ 42  58  55  35  37  53  54  46  56  50  48  38  45  40  59  41  47  49\n",
            "  51  57  39  43  44  60  52  36  72  67  73  70  62  74  66  63  71  78\n",
            "  80  68  65  77  76  79  61  64  69  75  24  18  26  27  25  21  30  11\n",
            "   5  10   7  20  22  15  23   8  16  29  17   6  19  13   9  14  28  94\n",
            "  95  92  89  88  87  85  86  83  91  81  84  90  82  93  33  31  34  32\n",
            " 130 144 123 125 131 140 122 134 145 139 141 138 136 132 133 121 126 120\n",
            " 142 135 129 128 137 127 124 143  12] \n",
            "\n",
            "POTASSIUM \n",
            " [ 43  41  44  40  42  38  36  37  39  35  45  16  17  21  20  19  25  22\n",
            "  15  18  23  24  77  84  85  81  75  79  76  83  78  80  82  46  50  53\n",
            "  54  49  55  52  47  48  51  27  31  32  34  33  30  28  29  26 195 204\n",
            " 205 196 198 197 203 201 202 199 200  12  13   6   9  10  14   8   7   5\n",
            "  11] \n",
            "\n",
            "TEMPERATURE \n",
            " [21 22 23 26 20 25 27 24 18 19 17 16 15 37 29 30 32 33 35 34 31 28 36 40\n",
            " 12 13 39  9 11 38 41 10 42 14 43 44] \n",
            "\n",
            "HUMIDITY \n",
            " [ 82  80  83  84  81  85  64  72  58  63  67  73  68  59  66  60  55  70\n",
            "  65  74  71  57  56  62  75  69  61  17  15  16  20  19  18  14  21  24\n",
            "  23  22  25  43  42  45  38  40  49  34  39  35  50  47  51  46  32  37\n",
            "  31  30  36  48  52  53  44  41  33  54  88  87  90  86  89  92  95  91\n",
            "  94  93  76  79  78  77  96 100  99  97  98] \n",
            "\n",
            "PH \n",
            " [6.5 7.  7.8 7.6 7.1 5.7 6.7 6.3 5.4 7.5 5.1 6.9 6.2 6.  5.9 6.4 7.4 5.8\n",
            " 5.  6.1 5.6 5.5 7.2 5.2 7.7 5.3 6.8 7.3 6.6 7.9 8.8 8.7 8.  8.5 8.1 8.6\n",
            " 8.2 8.9 8.4 8.3 4.7 4.9 4.5 4.8 4.6 3.7 4.4 9.7 9.  9.9 9.3 3.8 3.5 4.2\n",
            " 9.4 9.5 9.2 9.1 3.6] \n",
            "\n",
            "RAINFALL \n",
            " [203 227 264 243 263 251 271 242 230 221 265 250 284 185 210 231 277 206\n",
            " 225 291 213 233 224 257 260 240 198 272 200 270 193 285 298 249 201 299\n",
            " 266 184 197 211 254 220 209 195 287 217 268 192 278 245 246 280 202 183\n",
            " 199 244 205 261 296 186 223 187 232 234 241 219 248 194 288 188  88 102\n",
            "  67  61  65 105  78 109  94  74  64  95  72 104  77  84  80  81  75  96\n",
            " 103  70  66  91  63 107 110  92  71  69 100  76 101  90  73  83  97  68\n",
            "  98  62 108  79  86  82  99  89  93  85  87 128 106 140 143 133 130 144\n",
            " 134 117 137 145 122 139 120 138 121  60 125 113 142 135 146 127 150 115\n",
            " 129 123 164 149 147 177 180 161 179 114 157 162 151 169 181 159 163 196\n",
            " 171 136 173 176 191 160 148 118 182 141 190 175 153 178 155 165 172  33\n",
            "  37  32  54  45  35  53  46  48  41  42  59  34  56  57  44  55  38  50\n",
            "  58  52  36  31  39  43  47  49  40  51 112 111 116 119  28  26  23  21\n",
            "  25  30  29  22  27  24  20 124 236 239 207 218 166 214 212 235 174 189\n",
            " 208 158 216 132 131 215 167 154 226 204 152 170 168 156 126] \n",
            "\n",
            "CROP \n",
            " ['rice' 'maize' 'chickpea' 'kidneybeans' 'pigeonpeas' 'mothbeans'\n",
            " 'mungbean' 'blackgram' 'lentil' 'pomegranate' 'banana' 'mango' 'grapes'\n",
            " 'watermelon' 'muskmelon' 'apple' 'orange' 'papaya' 'coconut' 'cotton'\n",
            " 'jute' 'coffee'] \n",
            "\n"
          ]
        }
      ],
      "source": [
        "columns = ['NITROGEN', 'PHOSPHORUS', 'POTASSIUM', 'TEMPERATURE', 'HUMIDITY', 'PH', 'RAINFALL', 'CROP']\n",
        "for col in columns:\n",
        "    print(col, \"\\n\", df[col].unique(), \"\\n\")"
      ]
    },
    {
      "cell_type": "code",
      "execution_count": null,
      "id": "fbe497f8",
      "metadata": {
        "execution": {
          "iopub.execute_input": "2023-01-03T06:51:31.723866Z",
          "iopub.status.busy": "2023-01-03T06:51:31.723489Z",
          "iopub.status.idle": "2023-01-03T06:51:31.736879Z",
          "shell.execute_reply": "2023-01-03T06:51:31.735914Z"
        },
        "papermill": {
          "duration": 0.022515,
          "end_time": "2023-01-03T06:51:31.739359",
          "exception": false,
          "start_time": "2023-01-03T06:51:31.716844",
          "status": "completed"
        },
        "tags": [],
        "colab": {
          "base_uri": "https://localhost:8080/"
        },
        "id": "fbe497f8",
        "outputId": "e0510ecc-8caa-45a0-c61a-527d84a35ea2"
      },
      "outputs": [
        {
          "output_type": "stream",
          "name": "stdout",
          "text": [
            "<bound method Series.isnull of 0        90\n",
            "1        85\n",
            "2        60\n",
            "3        74\n",
            "4        78\n",
            "       ... \n",
            "2195    107\n",
            "2196     99\n",
            "2197    118\n",
            "2198    117\n",
            "2199    104\n",
            "Name: NITROGEN, Length: 2200, dtype: int64>\n",
            "<bound method Series.isnull of 0       42\n",
            "1       58\n",
            "2       55\n",
            "3       35\n",
            "4       42\n",
            "        ..\n",
            "2195    34\n",
            "2196    15\n",
            "2197    33\n",
            "2198    32\n",
            "2199    18\n",
            "Name: PHOSPHORUS, Length: 2200, dtype: int64>\n",
            "<bound method Series.isnull of 0       43\n",
            "1       41\n",
            "2       44\n",
            "3       40\n",
            "4       42\n",
            "        ..\n",
            "2195    32\n",
            "2196    27\n",
            "2197    30\n",
            "2198    34\n",
            "2199    30\n",
            "Name: POTASSIUM, Length: 2200, dtype: int64>\n",
            "<bound method Series.isnull of 0       21\n",
            "1       22\n",
            "2       23\n",
            "3       26\n",
            "4       20\n",
            "        ..\n",
            "2195    27\n",
            "2196    27\n",
            "2197    24\n",
            "2198    26\n",
            "2199    24\n",
            "Name: TEMPERATURE, Length: 2200, dtype: int64>\n",
            "<bound method Series.isnull of 0       82\n",
            "1       80\n",
            "2       82\n",
            "3       80\n",
            "4       82\n",
            "        ..\n",
            "2195    66\n",
            "2196    57\n",
            "2197    67\n",
            "2198    52\n",
            "2199    60\n",
            "Name: HUMIDITY, Length: 2200, dtype: int64>\n",
            "<bound method Series.isnull of 0       6.5\n",
            "1       7.0\n",
            "2       7.8\n",
            "3       7.0\n",
            "4       7.6\n",
            "       ... \n",
            "2195    6.8\n",
            "2196    6.1\n",
            "2197    6.4\n",
            "2198    6.8\n",
            "2199    6.8\n",
            "Name: PH, Length: 2200, dtype: float64>\n",
            "<bound method Series.isnull of 0       203\n",
            "1       227\n",
            "2       264\n",
            "3       243\n",
            "4       263\n",
            "       ... \n",
            "2195    178\n",
            "2196    128\n",
            "2197    173\n",
            "2198    127\n",
            "2199    141\n",
            "Name: RAINFALL, Length: 2200, dtype: int64>\n",
            "<bound method Series.isnull of 0         rice\n",
            "1         rice\n",
            "2         rice\n",
            "3         rice\n",
            "4         rice\n",
            "         ...  \n",
            "2195    coffee\n",
            "2196    coffee\n",
            "2197    coffee\n",
            "2198    coffee\n",
            "2199    coffee\n",
            "Name: CROP, Length: 2200, dtype: object>\n"
          ]
        }
      ],
      "source": [
        "for col in columns:\n",
        "    print(df[col].isnull)"
      ]
    },
    {
      "cell_type": "code",
      "execution_count": null,
      "id": "d6e0812a",
      "metadata": {
        "execution": {
          "iopub.execute_input": "2023-01-03T06:51:31.752020Z",
          "iopub.status.busy": "2023-01-03T06:51:31.751641Z",
          "iopub.status.idle": "2023-01-03T06:51:31.771341Z",
          "shell.execute_reply": "2023-01-03T06:51:31.770115Z"
        },
        "papermill": {
          "duration": 0.028848,
          "end_time": "2023-01-03T06:51:31.773710",
          "exception": false,
          "start_time": "2023-01-03T06:51:31.744862",
          "status": "completed"
        },
        "tags": [],
        "colab": {
          "base_uri": "https://localhost:8080/",
          "height": 423
        },
        "id": "d6e0812a",
        "outputId": "4704cf45-127b-4299-c963-fc88baf521f2"
      },
      "outputs": [
        {
          "output_type": "execute_result",
          "data": {
            "text/plain": [
              "      NITROGEN  PHOSPHORUS  POTASSIUM  TEMPERATURE  HUMIDITY   PH  RAINFALL  \\\n",
              "0           90          42         43           21        82  6.5       203   \n",
              "1           85          58         41           22        80  7.0       227   \n",
              "2           60          55         44           23        82  7.8       264   \n",
              "3           74          35         40           26        80  7.0       243   \n",
              "4           78          42         42           20        82  7.6       263   \n",
              "...        ...         ...        ...          ...       ...  ...       ...   \n",
              "2195       107          34         32           27        66  6.8       178   \n",
              "2196        99          15         27           27        57  6.1       128   \n",
              "2197       118          33         30           24        67  6.4       173   \n",
              "2198       117          32         34           26        52  6.8       127   \n",
              "2199       104          18         30           24        60  6.8       141   \n",
              "\n",
              "        CROP  \n",
              "0       rice  \n",
              "1       rice  \n",
              "2       rice  \n",
              "3       rice  \n",
              "4       rice  \n",
              "...      ...  \n",
              "2195  coffee  \n",
              "2196  coffee  \n",
              "2197  coffee  \n",
              "2198  coffee  \n",
              "2199  coffee  \n",
              "\n",
              "[2200 rows x 8 columns]"
            ],
            "text/html": [
              "\n",
              "  <div id=\"df-9987682e-64e7-4c54-b894-207edd741c15\">\n",
              "    <div class=\"colab-df-container\">\n",
              "      <div>\n",
              "<style scoped>\n",
              "    .dataframe tbody tr th:only-of-type {\n",
              "        vertical-align: middle;\n",
              "    }\n",
              "\n",
              "    .dataframe tbody tr th {\n",
              "        vertical-align: top;\n",
              "    }\n",
              "\n",
              "    .dataframe thead th {\n",
              "        text-align: right;\n",
              "    }\n",
              "</style>\n",
              "<table border=\"1\" class=\"dataframe\">\n",
              "  <thead>\n",
              "    <tr style=\"text-align: right;\">\n",
              "      <th></th>\n",
              "      <th>NITROGEN</th>\n",
              "      <th>PHOSPHORUS</th>\n",
              "      <th>POTASSIUM</th>\n",
              "      <th>TEMPERATURE</th>\n",
              "      <th>HUMIDITY</th>\n",
              "      <th>PH</th>\n",
              "      <th>RAINFALL</th>\n",
              "      <th>CROP</th>\n",
              "    </tr>\n",
              "  </thead>\n",
              "  <tbody>\n",
              "    <tr>\n",
              "      <th>0</th>\n",
              "      <td>90</td>\n",
              "      <td>42</td>\n",
              "      <td>43</td>\n",
              "      <td>21</td>\n",
              "      <td>82</td>\n",
              "      <td>6.5</td>\n",
              "      <td>203</td>\n",
              "      <td>rice</td>\n",
              "    </tr>\n",
              "    <tr>\n",
              "      <th>1</th>\n",
              "      <td>85</td>\n",
              "      <td>58</td>\n",
              "      <td>41</td>\n",
              "      <td>22</td>\n",
              "      <td>80</td>\n",
              "      <td>7.0</td>\n",
              "      <td>227</td>\n",
              "      <td>rice</td>\n",
              "    </tr>\n",
              "    <tr>\n",
              "      <th>2</th>\n",
              "      <td>60</td>\n",
              "      <td>55</td>\n",
              "      <td>44</td>\n",
              "      <td>23</td>\n",
              "      <td>82</td>\n",
              "      <td>7.8</td>\n",
              "      <td>264</td>\n",
              "      <td>rice</td>\n",
              "    </tr>\n",
              "    <tr>\n",
              "      <th>3</th>\n",
              "      <td>74</td>\n",
              "      <td>35</td>\n",
              "      <td>40</td>\n",
              "      <td>26</td>\n",
              "      <td>80</td>\n",
              "      <td>7.0</td>\n",
              "      <td>243</td>\n",
              "      <td>rice</td>\n",
              "    </tr>\n",
              "    <tr>\n",
              "      <th>4</th>\n",
              "      <td>78</td>\n",
              "      <td>42</td>\n",
              "      <td>42</td>\n",
              "      <td>20</td>\n",
              "      <td>82</td>\n",
              "      <td>7.6</td>\n",
              "      <td>263</td>\n",
              "      <td>rice</td>\n",
              "    </tr>\n",
              "    <tr>\n",
              "      <th>...</th>\n",
              "      <td>...</td>\n",
              "      <td>...</td>\n",
              "      <td>...</td>\n",
              "      <td>...</td>\n",
              "      <td>...</td>\n",
              "      <td>...</td>\n",
              "      <td>...</td>\n",
              "      <td>...</td>\n",
              "    </tr>\n",
              "    <tr>\n",
              "      <th>2195</th>\n",
              "      <td>107</td>\n",
              "      <td>34</td>\n",
              "      <td>32</td>\n",
              "      <td>27</td>\n",
              "      <td>66</td>\n",
              "      <td>6.8</td>\n",
              "      <td>178</td>\n",
              "      <td>coffee</td>\n",
              "    </tr>\n",
              "    <tr>\n",
              "      <th>2196</th>\n",
              "      <td>99</td>\n",
              "      <td>15</td>\n",
              "      <td>27</td>\n",
              "      <td>27</td>\n",
              "      <td>57</td>\n",
              "      <td>6.1</td>\n",
              "      <td>128</td>\n",
              "      <td>coffee</td>\n",
              "    </tr>\n",
              "    <tr>\n",
              "      <th>2197</th>\n",
              "      <td>118</td>\n",
              "      <td>33</td>\n",
              "      <td>30</td>\n",
              "      <td>24</td>\n",
              "      <td>67</td>\n",
              "      <td>6.4</td>\n",
              "      <td>173</td>\n",
              "      <td>coffee</td>\n",
              "    </tr>\n",
              "    <tr>\n",
              "      <th>2198</th>\n",
              "      <td>117</td>\n",
              "      <td>32</td>\n",
              "      <td>34</td>\n",
              "      <td>26</td>\n",
              "      <td>52</td>\n",
              "      <td>6.8</td>\n",
              "      <td>127</td>\n",
              "      <td>coffee</td>\n",
              "    </tr>\n",
              "    <tr>\n",
              "      <th>2199</th>\n",
              "      <td>104</td>\n",
              "      <td>18</td>\n",
              "      <td>30</td>\n",
              "      <td>24</td>\n",
              "      <td>60</td>\n",
              "      <td>6.8</td>\n",
              "      <td>141</td>\n",
              "      <td>coffee</td>\n",
              "    </tr>\n",
              "  </tbody>\n",
              "</table>\n",
              "<p>2200 rows × 8 columns</p>\n",
              "</div>\n",
              "      <button class=\"colab-df-convert\" onclick=\"convertToInteractive('df-9987682e-64e7-4c54-b894-207edd741c15')\"\n",
              "              title=\"Convert this dataframe to an interactive table.\"\n",
              "              style=\"display:none;\">\n",
              "        \n",
              "  <svg xmlns=\"http://www.w3.org/2000/svg\" height=\"24px\"viewBox=\"0 0 24 24\"\n",
              "       width=\"24px\">\n",
              "    <path d=\"M0 0h24v24H0V0z\" fill=\"none\"/>\n",
              "    <path d=\"M18.56 5.44l.94 2.06.94-2.06 2.06-.94-2.06-.94-.94-2.06-.94 2.06-2.06.94zm-11 1L8.5 8.5l.94-2.06 2.06-.94-2.06-.94L8.5 2.5l-.94 2.06-2.06.94zm10 10l.94 2.06.94-2.06 2.06-.94-2.06-.94-.94-2.06-.94 2.06-2.06.94z\"/><path d=\"M17.41 7.96l-1.37-1.37c-.4-.4-.92-.59-1.43-.59-.52 0-1.04.2-1.43.59L10.3 9.45l-7.72 7.72c-.78.78-.78 2.05 0 2.83L4 21.41c.39.39.9.59 1.41.59.51 0 1.02-.2 1.41-.59l7.78-7.78 2.81-2.81c.8-.78.8-2.07 0-2.86zM5.41 20L4 18.59l7.72-7.72 1.47 1.35L5.41 20z\"/>\n",
              "  </svg>\n",
              "      </button>\n",
              "      \n",
              "  <style>\n",
              "    .colab-df-container {\n",
              "      display:flex;\n",
              "      flex-wrap:wrap;\n",
              "      gap: 12px;\n",
              "    }\n",
              "\n",
              "    .colab-df-convert {\n",
              "      background-color: #E8F0FE;\n",
              "      border: none;\n",
              "      border-radius: 50%;\n",
              "      cursor: pointer;\n",
              "      display: none;\n",
              "      fill: #1967D2;\n",
              "      height: 32px;\n",
              "      padding: 0 0 0 0;\n",
              "      width: 32px;\n",
              "    }\n",
              "\n",
              "    .colab-df-convert:hover {\n",
              "      background-color: #E2EBFA;\n",
              "      box-shadow: 0px 1px 2px rgba(60, 64, 67, 0.3), 0px 1px 3px 1px rgba(60, 64, 67, 0.15);\n",
              "      fill: #174EA6;\n",
              "    }\n",
              "\n",
              "    [theme=dark] .colab-df-convert {\n",
              "      background-color: #3B4455;\n",
              "      fill: #D2E3FC;\n",
              "    }\n",
              "\n",
              "    [theme=dark] .colab-df-convert:hover {\n",
              "      background-color: #434B5C;\n",
              "      box-shadow: 0px 1px 3px 1px rgba(0, 0, 0, 0.15);\n",
              "      filter: drop-shadow(0px 1px 2px rgba(0, 0, 0, 0.3));\n",
              "      fill: #FFFFFF;\n",
              "    }\n",
              "  </style>\n",
              "\n",
              "      <script>\n",
              "        const buttonEl =\n",
              "          document.querySelector('#df-9987682e-64e7-4c54-b894-207edd741c15 button.colab-df-convert');\n",
              "        buttonEl.style.display =\n",
              "          google.colab.kernel.accessAllowed ? 'block' : 'none';\n",
              "\n",
              "        async function convertToInteractive(key) {\n",
              "          const element = document.querySelector('#df-9987682e-64e7-4c54-b894-207edd741c15');\n",
              "          const dataTable =\n",
              "            await google.colab.kernel.invokeFunction('convertToInteractive',\n",
              "                                                     [key], {});\n",
              "          if (!dataTable) return;\n",
              "\n",
              "          const docLinkHtml = 'Like what you see? Visit the ' +\n",
              "            '<a target=\"_blank\" href=https://colab.research.google.com/notebooks/data_table.ipynb>data table notebook</a>'\n",
              "            + ' to learn more about interactive tables.';\n",
              "          element.innerHTML = '';\n",
              "          dataTable['output_type'] = 'display_data';\n",
              "          await google.colab.output.renderOutput(dataTable, element);\n",
              "          const docLink = document.createElement('div');\n",
              "          docLink.innerHTML = docLinkHtml;\n",
              "          element.appendChild(docLink);\n",
              "        }\n",
              "      </script>\n",
              "    </div>\n",
              "  </div>\n",
              "  "
            ]
          },
          "metadata": {},
          "execution_count": 34
        }
      ],
      "source": [
        "df.dropna()"
      ]
    },
    {
      "cell_type": "code",
      "execution_count": null,
      "id": "70a94551",
      "metadata": {
        "execution": {
          "iopub.execute_input": "2023-01-03T06:51:31.788188Z",
          "iopub.status.busy": "2023-01-03T06:51:31.787484Z",
          "iopub.status.idle": "2023-01-03T06:51:31.798897Z",
          "shell.execute_reply": "2023-01-03T06:51:31.797670Z"
        },
        "papermill": {
          "duration": 0.021592,
          "end_time": "2023-01-03T06:51:31.801482",
          "exception": false,
          "start_time": "2023-01-03T06:51:31.779890",
          "status": "completed"
        },
        "tags": [],
        "colab": {
          "base_uri": "https://localhost:8080/"
        },
        "id": "70a94551",
        "outputId": "29ac27f5-bba1-447c-e2f5-86812004912d"
      },
      "outputs": [
        {
          "output_type": "execute_result",
          "data": {
            "text/plain": [
              "array([20, 20, 20, ...,  5,  5,  5])"
            ]
          },
          "metadata": {},
          "execution_count": 35
        }
      ],
      "source": [
        "le = preprocessing.LabelEncoder()\n",
        "X = df.iloc[:, 0:7]\n",
        "y = df['CROP']\n",
        "y = le.fit_transform(y)\n",
        "X_train, X_test, y_train, y_test = train_test_split(X, y, test_size=0.25, random_state=0)\n",
        "y"
      ]
    },
    {
      "cell_type": "code",
      "execution_count": null,
      "id": "6503bd06",
      "metadata": {
        "execution": {
          "iopub.execute_input": "2023-01-03T06:51:31.815516Z",
          "iopub.status.busy": "2023-01-03T06:51:31.814806Z",
          "iopub.status.idle": "2023-01-03T06:51:32.010070Z",
          "shell.execute_reply": "2023-01-03T06:51:32.008900Z"
        },
        "papermill": {
          "duration": 0.205062,
          "end_time": "2023-01-03T06:51:32.012474",
          "exception": false,
          "start_time": "2023-01-03T06:51:31.807412",
          "status": "completed"
        },
        "tags": [],
        "colab": {
          "base_uri": "https://localhost:8080/"
        },
        "id": "6503bd06",
        "outputId": "c34d23ed-f1a5-4644-9a12-fc7be4b32c12"
      },
      "outputs": [
        {
          "output_type": "stream",
          "name": "stdout",
          "text": [
            "98.18181818181819\n"
          ]
        }
      ],
      "source": [
        "from sklearn import svm\n",
        "svm_model = svm.SVC()\n",
        "svm_model.fit(X_train, y_train)\n",
        "y_predict = svm_model.predict(X_test)\n",
        "SVM = accuracy_score(y_test, y_predict)*100\n",
        "print(SVM)"
      ]
    },
    {
      "cell_type": "code",
      "execution_count": null,
      "id": "ddfbdfc6",
      "metadata": {
        "execution": {
          "iopub.execute_input": "2023-01-03T06:51:32.025914Z",
          "iopub.status.busy": "2023-01-03T06:51:32.025505Z",
          "iopub.status.idle": "2023-01-03T06:51:32.117314Z",
          "shell.execute_reply": "2023-01-03T06:51:32.116197Z"
        },
        "papermill": {
          "duration": 0.101359,
          "end_time": "2023-01-03T06:51:32.119696",
          "exception": false,
          "start_time": "2023-01-03T06:51:32.018337",
          "status": "completed"
        },
        "tags": [],
        "colab": {
          "base_uri": "https://localhost:8080/"
        },
        "id": "ddfbdfc6",
        "outputId": "3a450b7d-8774-4a94-ee5e-7ccde96626ce"
      },
      "outputs": [
        {
          "output_type": "stream",
          "name": "stdout",
          "text": [
            "74.36363636363636\n"
          ]
        }
      ],
      "source": [
        "from sklearn.linear_model import SGDClassifier\n",
        "clf = SGDClassifier(alpha=0.001, max_iter=600)\n",
        "clf.fit(X_train, y_train)\n",
        "y_pred = clf.predict(X_test)\n",
        "SGDClassifier = accuracy_score(y_test, y_pred)*100\n",
        "print(SGDClassifier)"
      ]
    },
    {
      "cell_type": "code",
      "execution_count": null,
      "id": "8933bb84",
      "metadata": {
        "execution": {
          "iopub.execute_input": "2023-01-03T06:51:32.134074Z",
          "iopub.status.busy": "2023-01-03T06:51:32.133675Z",
          "iopub.status.idle": "2023-01-03T06:51:32.218098Z",
          "shell.execute_reply": "2023-01-03T06:51:32.216973Z"
        },
        "papermill": {
          "duration": 0.094689,
          "end_time": "2023-01-03T06:51:32.220663",
          "exception": false,
          "start_time": "2023-01-03T06:51:32.125974",
          "status": "completed"
        },
        "tags": [],
        "colab": {
          "base_uri": "https://localhost:8080/"
        },
        "id": "8933bb84",
        "outputId": "eafa6de6-c334-41a2-b695-cdb8debac1f5"
      },
      "outputs": [
        {
          "output_type": "stream",
          "name": "stdout",
          "text": [
            "97.81818181818181\n"
          ]
        }
      ],
      "source": [
        "from sklearn.neighbors import KNeighborsClassifier\n",
        "knn = KNeighborsClassifier(n_neighbors=3)\n",
        "knn.fit(X_train, y_train)\n",
        "y_pred = knn.predict(X_test)\n",
        "KNN = accuracy_score(y_test, y_pred)*100\n",
        "print(KNN)"
      ]
    },
    {
      "cell_type": "code",
      "execution_count": null,
      "id": "654d419f",
      "metadata": {
        "execution": {
          "iopub.execute_input": "2023-01-03T06:51:32.235250Z",
          "iopub.status.busy": "2023-01-03T06:51:32.234825Z",
          "iopub.status.idle": "2023-01-03T06:51:32.254614Z",
          "shell.execute_reply": "2023-01-03T06:51:32.253536Z"
        },
        "papermill": {
          "duration": 0.030121,
          "end_time": "2023-01-03T06:51:32.257276",
          "exception": false,
          "start_time": "2023-01-03T06:51:32.227155",
          "status": "completed"
        },
        "tags": [],
        "colab": {
          "base_uri": "https://localhost:8080/"
        },
        "id": "654d419f",
        "outputId": "4959dc95-99dd-4034-adfa-cd45190bb6a3"
      },
      "outputs": [
        {
          "output_type": "stream",
          "name": "stdout",
          "text": [
            "99.45454545454545\n"
          ]
        }
      ],
      "source": [
        "from sklearn.naive_bayes import GaussianNB\n",
        "gnb = GaussianNB()\n",
        "y_pred = gnb.fit(X_train, y_train).predict(X_test)\n",
        "GaussianNB = accuracy_score(y_test, y_pred)*100\n",
        "print(GaussianNB)"
      ]
    },
    {
      "cell_type": "code",
      "execution_count": null,
      "id": "cd61444e",
      "metadata": {
        "execution": {
          "iopub.execute_input": "2023-01-03T06:51:32.273123Z",
          "iopub.status.busy": "2023-01-03T06:51:32.271336Z",
          "iopub.status.idle": "2023-01-03T06:51:32.323761Z",
          "shell.execute_reply": "2023-01-03T06:51:32.322716Z"
        },
        "papermill": {
          "duration": 0.063962,
          "end_time": "2023-01-03T06:51:32.327684",
          "exception": false,
          "start_time": "2023-01-03T06:51:32.263722",
          "status": "completed"
        },
        "tags": [],
        "colab": {
          "base_uri": "https://localhost:8080/"
        },
        "id": "cd61444e",
        "outputId": "1d146813-bed6-4bbe-d5b7-0370abbb4dea"
      },
      "outputs": [
        {
          "output_type": "stream",
          "name": "stdout",
          "text": [
            "99.0909090909091\n"
          ]
        }
      ],
      "source": [
        "from sklearn.tree import DecisionTreeClassifier\n",
        "clf = DecisionTreeClassifier(random_state=0, max_depth=10)\n",
        "y_pred = clf.fit(X_train, y_train).predict(X_test)\n",
        "DecisionTreeClassifier = accuracy_score(y_test, y_pred)*100\n",
        "print(DecisionTreeClassifier)"
      ]
    },
    {
      "cell_type": "code",
      "source": [
        "data = {'SVM':SVM, 'SGD':SGDClassifier, 'KNN':KNN,\n",
        "        'GaussianNB':GaussianNB, 'Decision Tree':DecisionTreeClassifier}\n",
        "\n",
        "algorithm = list(data.keys())\n",
        "accuracy = list(data.values())\n",
        "  \n",
        "fig = plt.figure(figsize = (10, 5))\n",
        " \n",
        "# creating the bar plot\n",
        "plt.bar(algorithm, accuracy, color ='green',\n",
        "        width = 0.4)\n",
        " \n",
        "plt.xlabel(\"Algorithm\")\n",
        "plt.ylabel(\"Accuracy\")\n",
        "plt.title(\"Accuracies of various ML Algorithms used on the given Data Set\")\n",
        "plt.show()"
      ],
      "metadata": {
        "colab": {
          "base_uri": "https://localhost:8080/",
          "height": 350
        },
        "id": "nSZrg2fJ-glk",
        "outputId": "68f8d98e-2303-4d0f-8728-95badcf3aaed"
      },
      "id": "nSZrg2fJ-glk",
      "execution_count": null,
      "outputs": [
        {
          "output_type": "display_data",
          "data": {
            "text/plain": [
              "<Figure size 720x360 with 1 Axes>"
            ],
            "image/png": "[encoded data removed]"
          },
          "metadata": {
            "needs_background": "light"
          }
        }
      ]
    }
  ],
  "metadata": {
    "kernelspec": {
      "display_name": "Python 3",
      "language": "python",
      "name": "python3"
    },
    "language_info": {
      "codemirror_mode": {
        "name": "ipython",
        "version": 3
      },
      "file_extension": ".py",
      "mimetype": "text/x-python",
      "name": "python",
      "nbconvert_exporter": "python",
      "pygments_lexer": "ipython3",
      "version": "3.7.12"
    },
    "papermill": {
      "default_parameters": {},
      "duration": 11.426128,
      "end_time": "2023-01-03T06:51:33.124022",
      "environment_variables": {},
      "exception": null,
      "input_path": "__notebook__.ipynb",
      "output_path": "__notebook__.ipynb",
      "parameters": {},
      "start_time": "2023-01-03T06:51:21.697894",
      "version": "2.3.4"
    },
    "colab": {
      "provenance": []
    }
  },
  "nbformat": 4,
  "nbformat_minor": 5
}